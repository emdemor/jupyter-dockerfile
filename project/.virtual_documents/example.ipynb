print("Hello")


1 + 2 + 3


asd = 1


import kacilds






