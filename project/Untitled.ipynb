{
 "cells": [
  {
   "cell_type": "code",
   "execution_count": 3,
   "id": "16e6575e-0e17-4c16-89db-7241009382e3",
   "metadata": {
    "execution": {
     "iopub.execute_input": "2025-02-24T04:07:02.819493Z",
     "iopub.status.busy": "2025-02-24T04:07:02.819126Z",
     "iopub.status.idle": "2025-02-24T04:07:02.823100Z",
     "shell.execute_reply": "2025-02-24T04:07:02.822628Z",
     "shell.execute_reply.started": "2025-02-24T04:07:02.819452Z"
    }
   },
   "outputs": [
    {
     "data": {
      "text/plain": [
       "9"
      ]
     },
     "execution_count": 3,
     "metadata": {},
     "output_type": "execute_result"
    }
   ],
   "source": [
    "1+2+6"
   ]
  },
  {
   "cell_type": "code",
   "execution_count": null,
   "id": "69fe18de-855f-4986-b40b-0324ef7a072f",
   "metadata": {},
   "outputs": [],
   "source": []
  }
 ],
 "metadata": {
  "kernelspec": {
   "display_name": "Python 3 (ipykernel)",
   "language": "python",
   "name": "python3"
  },
  "language_info": {
   "codemirror_mode": {
    "name": "ipython",
    "version": 3
   },
   "file_extension": ".py",
   "mimetype": "text/x-python",
   "name": "python",
   "nbconvert_exporter": "python",
   "pygments_lexer": "ipython3",
   "version": "3.12.2"
  }
 },
 "nbformat": 4,
 "nbformat_minor": 5
}
