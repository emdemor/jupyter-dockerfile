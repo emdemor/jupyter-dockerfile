{
 "cells": [
  {
   "cell_type": "code",
   "execution_count": 1,
   "metadata": {
    "execution": {
     "iopub.execute_input": "2025-02-24T04:22:30.976549Z",
     "iopub.status.busy": "2025-02-24T04:22:30.976207Z",
     "iopub.status.idle": "2025-02-24T04:22:30.980243Z",
     "shell.execute_reply": "2025-02-24T04:22:30.979678Z",
     "shell.execute_reply.started": "2025-02-24T04:22:30.976526Z"
    },
    "tags": [],
    "vscode": {
     "languageId": "plaintext"
    }
   },
   "outputs": [
    {
     "name": "stdout",
     "output_type": "stream",
     "text": [
      "Hello\n"
     ]
    }
   ],
   "source": [
    "print(\"Hello\")"
   ]
  },
  {
   "cell_type": "code",
   "execution_count": 2,
   "metadata": {
    "execution": {
     "iopub.execute_input": "2025-02-21T19:50:32.612785Z",
     "iopub.status.busy": "2025-02-21T19:50:32.612501Z",
     "iopub.status.idle": "2025-02-21T19:50:32.619105Z",
     "shell.execute_reply": "2025-02-21T19:50:32.618712Z",
     "shell.execute_reply.started": "2025-02-21T19:50:32.612754Z"
    },
    "tags": []
   },
   "outputs": [
    {
     "data": {
      "text/plain": [
       "6"
      ]
     },
     "execution_count": 2,
     "metadata": {},
     "output_type": "execute_result"
    }
   ],
   "source": [
    "1 + 2 + 3"
   ]
  },
  {
   "cell_type": "code",
   "execution_count": 3,
   "metadata": {
    "execution": {
     "iopub.execute_input": "2025-02-21T19:50:33.470876Z",
     "iopub.status.busy": "2025-02-21T19:50:33.470698Z",
     "iopub.status.idle": "2025-02-21T19:50:33.473606Z",
     "shell.execute_reply": "2025-02-21T19:50:33.473181Z",
     "shell.execute_reply.started": "2025-02-21T19:50:33.470859Z"
    }
   },
   "outputs": [],
   "source": [
    "asd = 1"
   ]
  },
  {
   "cell_type": "code",
   "execution_count": 4,
   "metadata": {
    "execution": {
     "iopub.execute_input": "2025-02-21T19:50:34.075330Z",
     "iopub.status.busy": "2025-02-21T19:50:34.075140Z",
     "iopub.status.idle": "2025-02-21T19:50:34.224374Z",
     "shell.execute_reply": "2025-02-21T19:50:34.223787Z",
     "shell.execute_reply.started": "2025-02-21T19:50:34.075314Z"
    }
   },
   "outputs": [
    {
     "ename": "ModuleNotFoundError",
     "evalue": "No module named 'kacilds'",
     "output_type": "error",
     "traceback": [
      "\u001b[0;31m---------------------------------------------------------------------------\u001b[0m",
      "\u001b[0;31mModuleNotFoundError\u001b[0m                       Traceback (most recent call last)",
      "Cell \u001b[0;32mIn[4], line 1\u001b[0m\n\u001b[0;32m----> 1\u001b[0m \u001b[38;5;28;01mimport\u001b[39;00m\u001b[38;5;250m \u001b[39m\u001b[38;5;21;01mkacilds\u001b[39;00m\n",
      "\u001b[0;31mModuleNotFoundError\u001b[0m: No module named 'kacilds'"
     ]
    }
   ],
   "source": [
    "import kacilds\n",
    "\n",
    "\n"
   ]
  },
  {
   "cell_type": "code",
   "execution_count": null,
   "metadata": {},
   "outputs": [],
   "source": []
  }
 ],
 "metadata": {
  "colab": {
   "collapsed_sections": [],
   "name": "C3_W1_Lab_1_tokenize_basic.ipynb",
   "private_outputs": true,
   "provenance": [
    {
     "file_id": "https://github.com/https-deeplearning-ai/tensorflow-1-public/blob/adding_C3/C3/W1/ungraded_labs/C3_W1_Lab_1_tokenize_basic.ipynb",
     "timestamp": 1642431620601
    }
   ]
  },
  "kernelspec": {
   "display_name": "Python 3 (ipykernel)",
   "language": "python",
   "name": "python3"
  },
  "language_info": {
   "codemirror_mode": {
    "name": "ipython",
    "version": 3
   },
   "file_extension": ".py",
   "mimetype": "text/x-python",
   "name": "python",
   "nbconvert_exporter": "python",
   "pygments_lexer": "ipython3",
   "version": "3.12.2"
  }
 },
 "nbformat": 4,
 "nbformat_minor": 4
}
